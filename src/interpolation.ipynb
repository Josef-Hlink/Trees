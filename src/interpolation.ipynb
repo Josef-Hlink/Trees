{
 "cells": [
  {
   "cell_type": "markdown",
   "metadata": {},
   "source": [
    "# Interpolation"
   ]
  },
  {
   "cell_type": "markdown",
   "metadata": {},
   "source": [
    "### Prerequisites"
   ]
  },
  {
   "cell_type": "markdown",
   "metadata": {},
   "source": [
    "**Imports**"
   ]
  },
  {
   "cell_type": "code",
   "execution_count": null,
   "metadata": {},
   "outputs": [],
   "source": [
    "import os\n",
    "import sys\n",
    "import warnings\n",
    "import numpy as np\n",
    "import geopandas as gpd\n",
    "from shapely.geometry import Polygon\n",
    "import pykrige.kriging_tools as kt\n",
    "from pykrige.ok import OrdinaryKriging\n",
    "import matplotlib.pyplot as plt"
   ]
  },
  {
   "cell_type": "markdown",
   "metadata": {},
   "source": [
    "**Fix directories, define path variables**"
   ]
  },
  {
   "cell_type": "code",
   "execution_count": null,
   "metadata": {},
   "outputs": [],
   "source": [
    "# make sure notebook is ran from src\n",
    "cwd = os.getcwd()\n",
    "if not cwd.split('/')[-1] == 'src':\n",
    "    try:\n",
    "        os.chdir('src')\n",
    "    except FileNotFoundError:\n",
    "        print('Error: please run from src dir or project root')\n",
    "        sys.exit(1)\n",
    "\n",
    "# define paths\n",
    "data_path = '../data/'\n",
    "csv_path = data_path + 'csv/'\n",
    "shp_path = data_path + 'shapefiles/'\n",
    "plot_path = '../plots/'\n",
    "if not os.path.exists(plot_path):\n",
    "    os.mkdir(plot_path)"
   ]
  },
  {
   "cell_type": "markdown",
   "metadata": {},
   "source": [
    "---\n",
    "\n",
    "### Read data"
   ]
  },
  {
   "cell_type": "code",
   "execution_count": null,
   "metadata": {},
   "outputs": [],
   "source": [
    "# streets data\n",
    "gdf_streets = gpd.read_file(shp_path + 'streets/M_streets.shp')\n",
    "\n",
    "# traffic data\n",
    "gdf_traffic = gpd.read_file(shp_path + 'traffic/M_traffic.shp')\n",
    "gdf_traffic.info()"
   ]
  },
  {
   "cell_type": "markdown",
   "metadata": {},
   "source": [
    "---\n",
    "\n",
    "### Interpolate traffic data"
   ]
  },
  {
   "cell_type": "code",
   "execution_count": null,
   "metadata": {},
   "outputs": [],
   "source": [
    "x, y = gdf_traffic.geometry.x.values, gdf_traffic.geometry.y.values\n",
    "phi = gdf_traffic.Avg_Vol.values\n",
    "\n",
    "assert x.shape[0] == y.shape[0] == phi.shape[0]"
   ]
  },
  {
   "cell_type": "code",
   "execution_count": null,
   "metadata": {},
   "outputs": [],
   "source": [
    "fig, ax = plt.subplots(figsize=(5, 5))\n",
    "cax = ax.scatter(x, y, c=phi, cmap='viridis', s=5, alpha=0.75, zorder=2)\n",
    "gdf_streets.plot(ax=ax, color='gray', alpha=0.5, zorder=1)\n",
    "ax.set_title('Observations')\n",
    "ax.set_axis_off()\n",
    "fig.colorbar(cax, ax=ax, shrink=0.4)\n",
    "fig.tight_layout()"
   ]
  },
  {
   "cell_type": "code",
   "execution_count": null,
   "metadata": {},
   "outputs": [],
   "source": [
    "OK = OrdinaryKriging(x, y, phi, variogram_model='exponential', verbose=False, enable_plotting=False)\n",
    "minx, miny, maxx, maxy = gdf_streets.total_bounds\n",
    "X = np.arange(minx, maxx, 0.005)\n",
    "Y = np.arange(miny, maxy, 0.005)\n",
    "zstar, ss = OK.execute('grid', X, Y)"
   ]
  },
  {
   "cell_type": "code",
   "execution_count": null,
   "metadata": {},
   "outputs": [],
   "source": [
    "fig, ax = plt.subplots(figsize=(5, 5))\n",
    "cax = ax.imshow(\n",
    "    zstar,\n",
    "    extent = (minx, maxx, miny, maxy),\n",
    "    cmap = 'viridis',\n",
    "    origin = 'lower',\n",
    "    alpha = 0.9,\n",
    "    zorder = 1\n",
    ")\n",
    "gdf_streets.plot(\n",
    "    ax = ax,\n",
    "    color = 'k',\n",
    "    alpha = 0.1,\n",
    "    zorder = 2\n",
    ")\n",
    "ax.scatter(x, y, c=phi, cmap='viridis', edgecolors='k', s=10, zorder=3)\n",
    "ax.set_title('Ordinary Kriging')\n",
    "fig.colorbar(cax, ax=ax, shrink=0.4)\n",
    "fig.tight_layout()\n",
    "fig.savefig(plot_path + 'ordinary_kriging.png', dpi=300)"
   ]
  }
 ],
 "metadata": {
  "kernelspec": {
   "display_name": "Python 3.10.8 ('venv': venv)",
   "language": "python",
   "name": "python3"
  },
  "language_info": {
   "codemirror_mode": {
    "name": "ipython",
    "version": 3
   },
   "file_extension": ".py",
   "mimetype": "text/x-python",
   "name": "python",
   "nbconvert_exporter": "python",
   "pygments_lexer": "ipython3",
   "version": "3.10.8"
  },
  "orig_nbformat": 4,
  "vscode": {
   "interpreter": {
    "hash": "64750f2cf9258ce55ff4fa4c381516413ca0f47d1da9e17919bacb4d3e3ff9fe"
   }
  }
 },
 "nbformat": 4,
 "nbformat_minor": 2
}
