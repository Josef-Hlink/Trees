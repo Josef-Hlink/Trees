{
 "cells": [
  {
   "cell_type": "markdown",
   "metadata": {},
   "source": [
    "# Setup"
   ]
  },
  {
   "cell_type": "markdown",
   "metadata": {},
   "source": [
    "## Prerequisites"
   ]
  },
  {
   "cell_type": "markdown",
   "metadata": {},
   "source": [
    "#### Imports"
   ]
  },
  {
   "cell_type": "code",
   "execution_count": null,
   "metadata": {},
   "outputs": [],
   "source": [
    "import os\n",
    "import sys\n",
    "import numpy as np\n",
    "import pandas as pd\n",
    "import geopandas as gpd\n",
    "from shapely import wkt\n",
    "import matplotlib.pyplot as plt\n"
   ]
  },
  {
   "cell_type": "markdown",
   "metadata": {},
   "source": [
    "#### Fix directories, define default variables"
   ]
  },
  {
   "cell_type": "code",
   "execution_count": null,
   "metadata": {},
   "outputs": [],
   "source": [
    "# make sure notebook is ran from src\n",
    "cwd = os.getcwd()\n",
    "if not cwd.split('/')[-1] == 'src':\n",
    "    try:\n",
    "        os.chdir('src')\n",
    "    except FileNotFoundError:\n",
    "        print('Error: please run from src dir or project root')\n",
    "        sys.exit(1)\n",
    "\n",
    "# define paths\n",
    "data_path = '../data/'\n",
    "csv_path = data_path + 'csv/'\n",
    "shp_path = data_path + 'shapefiles/'\n",
    "plot_path = '../plots/'\n",
    "if not os.path.exists(plot_path):\n",
    "    os.mkdir(plot_path)"
   ]
  },
  {
   "cell_type": "markdown",
   "metadata": {},
   "source": [
    "## Data"
   ]
  },
  {
   "cell_type": "markdown",
   "metadata": {},
   "source": [
    "#### Read in data"
   ]
  },
  {
   "cell_type": "markdown",
   "metadata": {},
   "source": [
    "##### Trees"
   ]
  },
  {
   "cell_type": "code",
   "execution_count": null,
   "metadata": {},
   "outputs": [],
   "source": [
    "df_trees = pd.read_csv(csv_path + '2015_Street_Tree_Census_-_Tree_Data.csv')"
   ]
  },
  {
   "cell_type": "code",
   "execution_count": null,
   "metadata": {},
   "outputs": [],
   "source": [
    "df_trees.shape"
   ]
  },
  {
   "cell_type": "code",
   "execution_count": null,
   "metadata": {},
   "outputs": [],
   "source": [
    "fig, ax = plt.subplots(figsize=(5, 5))\n",
    "ax.scatter('longitude', 'latitude', data=df_trees, s=1e-5, alpha=0.5)\n",
    "ax.set_axis_off()\n",
    "ax.set_title('NYC Street Trees (2017)');"
   ]
  },
  {
   "cell_type": "markdown",
   "metadata": {},
   "source": [
    "##### Traffic"
   ]
  },
  {
   "cell_type": "markdown",
   "metadata": {},
   "source": [
    "We create the traffic dataframe."
   ]
  },
  {
   "cell_type": "code",
   "execution_count": null,
   "metadata": {},
   "outputs": [],
   "source": [
    "df_traffic = pd.read_csv(\n",
    "    csv_path+'Automated_Traffic_Volume_Counts.csv',\n",
    "    index_col = 'RequestID',\n",
    ").rename(columns={'WktGeom': 'geometry'})\n",
    "\n",
    "# only keep data of 2017\n",
    "df_traffic = df_traffic[df_traffic['Yr'] == 2017]\n",
    "\n",
    "# create a new column with the average traffic volume for each measurement point\n",
    "df_traffic['Avg_Vol'] = df_traffic.groupby('geometry')['Vol'].transform('mean')\n",
    "\n",
    "# drop unnecessary columns and rows\n",
    "df_traffic = df_traffic.drop(['Yr', 'M', 'D', 'HH', 'MM','Vol'], axis=1)\n",
    "df_traffic = df_traffic.drop_duplicates(subset='geometry')\n",
    "\n",
    "# convert geometry column to shapely geometry\n",
    "df_traffic['geometry'] = df_traffic['geometry'].apply(wkt.loads)"
   ]
  },
  {
   "cell_type": "markdown",
   "metadata": {},
   "source": [
    "We print how many unique values there are for each column."
   ]
  },
  {
   "cell_type": "code",
   "execution_count": null,
   "metadata": {},
   "outputs": [],
   "source": [
    "for col in df_traffic.columns:\n",
    "    print(f'{col:>10}: {len(df_traffic[col].unique())}')"
   ]
  },
  {
   "cell_type": "code",
   "execution_count": null,
   "metadata": {},
   "outputs": [],
   "source": [
    "# cast to geo dataframe\n",
    "gdf_traffic = gpd.GeoDataFrame(\n",
    "    df_traffic,\n",
    "    geometry = 'geometry'\n",
    ")\n",
    "\n",
    "# set crs to epsg 2263 NAD83 / New York Long Island (ftUS)\n",
    "gdf_traffic.crs = 2263\n",
    "\n",
    "# convert geometry to epsg 4326\n",
    "gdf_traffic = gdf_traffic.to_crs(epsg=4326)"
   ]
  },
  {
   "cell_type": "markdown",
   "metadata": {},
   "source": [
    "#### Streets"
   ]
  },
  {
   "cell_type": "code",
   "execution_count": null,
   "metadata": {},
   "outputs": [],
   "source": [
    "gdf_streets = gpd.read_file(\n",
    "    shp_path + 'NYC Street Centerline (CSCL)/geo_export_f4098162-199c-4100-9c2a-6bc6e35f8734.shp'\n",
    ").to_crs(epsg=4326)"
   ]
  },
  {
   "cell_type": "markdown",
   "metadata": {},
   "source": [
    "Visualize the measurement locations on street network."
   ]
  },
  {
   "cell_type": "code",
   "execution_count": null,
   "metadata": {},
   "outputs": [],
   "source": [
    "fig, ax = plt.subplots(figsize=(10, 10))\n",
    "gdf_streets.plot(ax=ax, color='grey', alpha=0.5, zorder=1)\n",
    "gdf_traffic.plot(\n",
    "    ax = ax,\n",
    "    column = 'Avg_Vol',\n",
    "    legend = True,\n",
    "    legend_kwds = {\n",
    "        'label': 'Average Traffic Volume',\n",
    "        'orientation': 'horizontal',\n",
    "        'shrink': 0.8\n",
    "    },\n",
    "    markersize = 5,\n",
    "    cmap = 'viridis_r',\n",
    "    zorder = 2\n",
    ")\n",
    "ax.set_axis_off()\n",
    "ax.set_title('Average Traffic Volume in NYC in 2017');"
   ]
  },
  {
   "cell_type": "markdown",
   "metadata": {},
   "source": [
    "##### Manhattan"
   ]
  },
  {
   "cell_type": "code",
   "execution_count": null,
   "metadata": {},
   "outputs": [],
   "source": [
    "gdf_streets_f = gdf_streets[gdf_streets['borocode'] == '1']\n",
    "gdf_traffic_f = gdf_traffic[gdf_traffic['Boro'] == 'Manhattan']\n",
    "df_trees_f = df_trees[df_trees['borough'] == 'Manhattan']\n",
    "\n",
    "for df, df_f in zip([gdf_streets, gdf_traffic, df_trees], [gdf_streets_f, gdf_traffic_f, df_trees_f]):\n",
    "    print(f'{df.shape[0]} -> {df_f.shape[0]} ({df_f.shape[0]/df.shape[0]:.2%})')"
   ]
  },
  {
   "cell_type": "markdown",
   "metadata": {},
   "source": [
    "Visualize again."
   ]
  },
  {
   "cell_type": "code",
   "execution_count": null,
   "metadata": {},
   "outputs": [],
   "source": [
    "fig, ax = plt.subplots(figsize=(10, 10))\n",
    "gdf_streets_f.plot(ax=ax, color='grey', alpha=0.5, zorder=1)\n",
    "gdf_traffic_f.plot(\n",
    "    ax = ax,\n",
    "    column = 'Avg_Vol',\n",
    "    legend = True,\n",
    "    legend_kwds = {\n",
    "        'label': 'Average Traffic Volume',\n",
    "        'orientation': 'horizontal',\n",
    "        'shrink': 0.5,\n",
    "    },\n",
    "    markersize = 5,\n",
    "    cmap = 'viridis_r',\n",
    "    zorder = 2\n",
    ")\n",
    "ax.set_axis_off()\n",
    "ax.set_title('Manhattan Traffic Volume in 2017');"
   ]
  },
  {
   "cell_type": "code",
   "execution_count": null,
   "metadata": {},
   "outputs": [],
   "source": [
    "gdf_traffic_f.sort_values('Avg_Vol', ascending=False).head(10)"
   ]
  }
 ],
 "metadata": {
  "kernelspec": {
   "display_name": "Python 3.9.6 ('venv': venv)",
   "language": "python",
   "name": "python3"
  },
  "language_info": {
   "codemirror_mode": {
    "name": "ipython",
    "version": 3
   },
   "file_extension": ".py",
   "mimetype": "text/x-python",
   "name": "python",
   "nbconvert_exporter": "python",
   "pygments_lexer": "ipython3",
   "version": "3.9.6"
  },
  "orig_nbformat": 4,
  "vscode": {
   "interpreter": {
    "hash": "3141a5ee15ba66a809082e9e6311d819cc6bb1fe32f10cf5ffbf536b2be7dfed"
   }
  }
 },
 "nbformat": 4,
 "nbformat_minor": 2
}
