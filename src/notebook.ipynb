{
 "cells": [
  {
   "cell_type": "markdown",
   "metadata": {},
   "source": [
    "# Setup"
   ]
  },
  {
   "cell_type": "markdown",
   "metadata": {},
   "source": [
    "Imports"
   ]
  },
  {
   "cell_type": "code",
   "execution_count": null,
   "metadata": {},
   "outputs": [],
   "source": [
    "import os\n",
    "import sys\n",
    "import numpy as np\n",
    "import pandas as pd\n",
    "import geopandas as gpd\n",
    "import matplotlib.pyplot as plt"
   ]
  },
  {
   "cell_type": "markdown",
   "metadata": {},
   "source": [
    "Fix directories, define default variables"
   ]
  },
  {
   "cell_type": "code",
   "execution_count": null,
   "metadata": {},
   "outputs": [],
   "source": [
    "# make sure notebook is ran from src\n",
    "cwd = os.getcwd()\n",
    "if not cwd.split('/')[-1] == 'src':\n",
    "    try:\n",
    "        os.chdir('src')\n",
    "    except FileNotFoundError:\n",
    "        print('Error: please run from src dir or project root')\n",
    "        sys.exit(1)\n",
    "\n",
    "# define paths\n",
    "data_path = '../data/'\n",
    "plot_path = '../plots/'\n",
    "if not os.path.exists(plot_path):\n",
    "    os.mkdir(plot_path)\n",
    "\n",
    "# projection in which trees data is stored: \"Amersfoort / RD New\"\n",
    "proj = 28992"
   ]
  },
  {
   "cell_type": "markdown",
   "metadata": {},
   "source": [
    "Read in (converted to csv) trees data, tif file obtained from [Nationaal Georegister](https://www.nationaalgeoregister.nl/geonetwork/srv/dut/catalog.search#/metadata/89611780-75d6-4163-935f-9bc0a738f7ca)."
   ]
  },
  {
   "cell_type": "code",
   "execution_count": null,
   "metadata": {},
   "outputs": [],
   "source": [
    "df = pd.read_csv('../data/bomenkaart_raw.csv')\n",
    "df.shape"
   ]
  },
  {
   "cell_type": "markdown",
   "metadata": {},
   "source": [
    "Read in shapefiles, obtained from [EarthWorks](https://earthworks.stanford.edu/catalog/stanford-gp502yc4422)."
   ]
  },
  {
   "cell_type": "code",
   "execution_count": null,
   "metadata": {},
   "outputs": [],
   "source": [
    "nl_base = gpd.read_file('../data/shapefiles/NLD_adm0.shp').to_crs(epsg=proj)\n",
    "nl_base.shape"
   ]
  },
  {
   "cell_type": "markdown",
   "metadata": {},
   "source": [
    "Visualize the data"
   ]
  },
  {
   "cell_type": "code",
   "execution_count": null,
   "metadata": {},
   "outputs": [],
   "source": [
    "fig, ax = plt.subplots(figsize=(5, 5))\n",
    "\n",
    "nl_base.plot(ax=ax, color='white', edgecolor='black')\n",
    "\n",
    "df_sample = df.sample(100000)\n",
    "points = ax.scatter(\n",
    "    'x',\n",
    "    'y',\n",
    "    c = 'z',\n",
    "    data = df_sample,\n",
    "    s = 0.1,\n",
    "    cmap = 'viridis'\n",
    ")\n",
    "ax.set_axis_off()\n",
    "\n",
    "cbar = fig.colorbar(points, ax=ax, location='bottom', shrink=0.5, pad=0.05)\n",
    "cbar.set_label('number of trees per $100 \\: m^2$')\n",
    "fig.suptitle('Tree density in the Netherlands')\n",
    "fig.tight_layout()\n",
    "fig.savefig(plot_path+'tree_height.png', dpi=300)"
   ]
  },
  {
   "cell_type": "code",
   "execution_count": null,
   "metadata": {},
   "outputs": [],
   "source": [
    "fig, ax = plt.subplots(figsize=(3, 3))\n",
    "df['z'].hist(ax=ax, bins=100)\n",
    "ax.set_title('Distribution of tree density')\n",
    "ax.set_xlabel('number of trees per $100 \\: m^2$')\n",
    "ax.set_ylabel('number of observations')\n",
    "fig.tight_layout()"
   ]
  }
 ],
 "metadata": {
  "kernelspec": {
   "display_name": "Python 3.10.8 ('venv': venv)",
   "language": "python",
   "name": "python3"
  },
  "language_info": {
   "codemirror_mode": {
    "name": "ipython",
    "version": 3
   },
   "file_extension": ".py",
   "mimetype": "text/x-python",
   "name": "python",
   "nbconvert_exporter": "python",
   "pygments_lexer": "ipython3",
   "version": "3.10.8"
  },
  "orig_nbformat": 4,
  "vscode": {
   "interpreter": {
    "hash": "64750f2cf9258ce55ff4fa4c381516413ca0f47d1da9e17919bacb4d3e3ff9fe"
   }
  }
 },
 "nbformat": 4,
 "nbformat_minor": 2
}
