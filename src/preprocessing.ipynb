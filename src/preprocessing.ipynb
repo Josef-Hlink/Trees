{
 "cells": [
  {
   "cell_type": "markdown",
   "metadata": {},
   "source": [
    "# Preprocessing"
   ]
  },
  {
   "cell_type": "markdown",
   "metadata": {},
   "source": [
    "### Prerequisites"
   ]
  },
  {
   "cell_type": "markdown",
   "metadata": {},
   "source": [
    "**Imports**"
   ]
  },
  {
   "cell_type": "code",
   "execution_count": null,
   "metadata": {},
   "outputs": [],
   "source": [
    "import os\n",
    "import sys\n",
    "import warnings\n",
    "import pandas as pd\n",
    "import geopandas as gpd\n",
    "from shapely import wkt\n",
    "import matplotlib.pyplot as plt"
   ]
  },
  {
   "cell_type": "markdown",
   "metadata": {},
   "source": [
    "**Fix directories, define path variables**"
   ]
  },
  {
   "cell_type": "code",
   "execution_count": null,
   "metadata": {},
   "outputs": [],
   "source": [
    "# make sure notebook is ran from src\n",
    "cwd = os.getcwd()\n",
    "if not cwd.split('/')[-1] == 'src':\n",
    "    try:\n",
    "        os.chdir('src')\n",
    "    except FileNotFoundError:\n",
    "        print('Error: please run from src dir or project root')\n",
    "        sys.exit(1)\n",
    "\n",
    "# define paths\n",
    "data_path = '../data/'\n",
    "csv_path = data_path + 'csv/'\n",
    "shp_path = data_path + 'shapefiles/'\n",
    "plot_path = '../plots/'\n",
    "if not os.path.exists(plot_path):\n",
    "    os.mkdir(plot_path)"
   ]
  },
  {
   "cell_type": "markdown",
   "metadata": {},
   "source": [
    "---\n",
    "\n",
    "### Read data"
   ]
  },
  {
   "cell_type": "markdown",
   "metadata": {},
   "source": [
    "**Trees**"
   ]
  },
  {
   "cell_type": "code",
   "execution_count": null,
   "metadata": {},
   "outputs": [],
   "source": [
    "df_trees = pd.read_csv(csv_path + '2015_Street_Tree_Census_-_Tree_Data.csv')\n",
    "df_trees.shape"
   ]
  },
  {
   "cell_type": "code",
   "execution_count": null,
   "metadata": {},
   "outputs": [],
   "source": [
    "fig, ax = plt.subplots(figsize=(5, 5))\n",
    "ax.scatter('longitude', 'latitude', data=df_trees, s=1e-5, alpha=0.5)\n",
    "ax.set_axis_off()\n",
    "ax.set_title('NYC Street Trees (2017)');"
   ]
  },
  {
   "cell_type": "code",
   "execution_count": null,
   "metadata": {},
   "outputs": [],
   "source": [
    "gdf_trees = gpd.GeoDataFrame(\n",
    "    df_trees,\n",
    "    geometry = gpd.points_from_xy(df_trees['longitude'], df_trees['latitude']),\n",
    "    crs = 4326\n",
    ")"
   ]
  },
  {
   "cell_type": "markdown",
   "metadata": {},
   "source": [
    "**Traffic**"
   ]
  },
  {
   "cell_type": "code",
   "execution_count": null,
   "metadata": {},
   "outputs": [],
   "source": [
    "df_traffic = pd.read_csv(\n",
    "    csv_path+'Automated_Traffic_Volume_Counts.csv',\n",
    "    index_col = 'RequestID',\n",
    ").rename(columns={'WktGeom': 'geometry'})\n",
    "\n",
    "# only keep data of 2017\n",
    "df_traffic = df_traffic[df_traffic['Yr'] == 2017]\n",
    "\n",
    "# create a new column with the average traffic volume for each measurement point\n",
    "df_traffic['Avg_Vol'] = df_traffic.groupby(['geometry', 'Direction'])['Vol'].transform('mean')\n",
    "\n",
    "# drop unnecessary columns and rows\n",
    "df_traffic = df_traffic.drop(['Yr', 'M', 'D', 'HH', 'MM','Vol'], axis=1)\n",
    "df_traffic = df_traffic.drop_duplicates(subset=['geometry', 'Direction'])\n",
    "\n",
    "# convert geometry column to shapely geometry\n",
    "df_traffic['geometry'] = df_traffic['geometry'].apply(wkt.loads)"
   ]
  },
  {
   "cell_type": "code",
   "execution_count": null,
   "metadata": {},
   "outputs": [],
   "source": [
    "for col in df_traffic.columns:\n",
    "    if col == 'geometry':\n",
    "        continue\n",
    "    print(f'{col:>10}: {len(df_traffic[col].unique())}')"
   ]
  },
  {
   "cell_type": "code",
   "execution_count": null,
   "metadata": {},
   "outputs": [],
   "source": [
    "gdf_traffic = gpd.GeoDataFrame(\n",
    "    df_traffic,\n",
    "    geometry = 'geometry'\n",
    ")\n",
    "\n",
    "# set crs to epsg 2263 NAD83 / New York Long Island (ftUS)\n",
    "gdf_traffic.crs = 2263\n",
    "\n",
    "# convert geometry to epsg 4326\n",
    "gdf_traffic = gdf_traffic.to_crs(epsg=4326)"
   ]
  },
  {
   "cell_type": "markdown",
   "metadata": {},
   "source": [
    "**Streets**"
   ]
  },
  {
   "cell_type": "code",
   "execution_count": null,
   "metadata": {},
   "outputs": [],
   "source": [
    "my_hash = os.listdir(\n",
    "    shp_path + 'NYC Street Centerline (CSCL)'\n",
    ")[0].split('_')[-1].split('.')[0]\n",
    "\n",
    "# 'geo_export_f4098162-199c-4100-9c2a-6bc6e35f8734.prj'\n",
    "\n",
    "gdf_streets = gpd.read_file(\n",
    "    shp_path + f'NYC Street Centerline (CSCL)/geo_export_{my_hash}.shp'\n",
    ").to_crs(epsg=4326)"
   ]
  },
  {
   "cell_type": "markdown",
   "metadata": {},
   "source": [
    "---\n",
    "\n",
    "### Visualize data"
   ]
  },
  {
   "cell_type": "markdown",
   "metadata": {},
   "source": [
    "First we just plot the measurement locations on street network."
   ]
  },
  {
   "cell_type": "code",
   "execution_count": null,
   "metadata": {},
   "outputs": [],
   "source": [
    "fig, ax = plt.subplots(figsize=(10, 10))\n",
    "gdf_streets.plot(ax=ax, color='grey', alpha=0.5, zorder=1)\n",
    "gdf_traffic.plot(\n",
    "    ax = ax,\n",
    "    column = 'Avg_Vol',\n",
    "    legend = True,\n",
    "    legend_kwds = dict(\n",
    "        label = 'Average Traffic Volume',\n",
    "        orientation = 'horizontal',\n",
    "        shrink = 0.8\n",
    "    ),\n",
    "    markersize = 5,\n",
    "    cmap = 'viridis_r',\n",
    "    zorder = 2\n",
    ")\n",
    "ax.set_axis_off()\n",
    "ax.set_title('Average Traffic Volume in NYC in 2017');"
   ]
  },
  {
   "cell_type": "markdown",
   "metadata": {},
   "source": [
    "**Manhattan**"
   ]
  },
  {
   "cell_type": "markdown",
   "metadata": {},
   "source": [
    "We restrict the scope of the analysis to Manhattan, because its traffic datapoints are relatively dense."
   ]
  },
  {
   "cell_type": "code",
   "execution_count": null,
   "metadata": {},
   "outputs": [],
   "source": [
    "gdf_streets_f = gdf_streets[gdf_streets['borocode'] == '1']\n",
    "gdf_traffic_f = gdf_traffic[gdf_traffic['Boro'] == 'Manhattan']\n",
    "gdf_trees_f = gdf_trees[gdf_trees['borough'] == 'Manhattan']\n",
    "\n",
    "for df, df_f in zip([gdf_streets, gdf_traffic, gdf_trees], [gdf_streets_f, gdf_traffic_f, gdf_trees_f]):\n",
    "    print(f'{df.shape[0]} -> {df_f.shape[0]} ({df_f.shape[0]/df.shape[0]:.2%})')"
   ]
  },
  {
   "cell_type": "markdown",
   "metadata": {},
   "source": [
    "Visualize again."
   ]
  },
  {
   "cell_type": "code",
   "execution_count": null,
   "metadata": {},
   "outputs": [],
   "source": [
    "fig, ax = plt.subplots(figsize=(6, 10))\n",
    "gdf_streets_f.plot(ax=ax, color='grey', alpha=0.5, zorder=1)\n",
    "gdf_traffic_f.plot(\n",
    "    ax = ax,\n",
    "    column = 'Avg_Vol',\n",
    "    legend = True,\n",
    "    legend_kwds = dict(\n",
    "        label = 'Average Traffic Volume',\n",
    "        orientation = 'horizontal',\n",
    "        shrink = 0.5,\n",
    "    ),\n",
    "    markersize = 5,\n",
    "    cmap = 'viridis_r',\n",
    "    zorder = 2\n",
    ")\n",
    "ax.set_axis_off()\n",
    "ax.set_title('Manhattan Traffic Volume in 2017');"
   ]
  },
  {
   "cell_type": "markdown",
   "metadata": {},
   "source": [
    "Top 10 busiest streets in Manhattan."
   ]
  },
  {
   "cell_type": "code",
   "execution_count": null,
   "metadata": {},
   "outputs": [],
   "source": [
    "gdf_traffic_f.sort_values('Avg_Vol', ascending=False).head(10)"
   ]
  },
  {
   "cell_type": "markdown",
   "metadata": {},
   "source": [
    "Now we want to add the tree data to the plot."
   ]
  },
  {
   "cell_type": "code",
   "execution_count": null,
   "metadata": {},
   "outputs": [],
   "source": [
    "fig, ax = plt.subplots(figsize=(6, 10))\n",
    "gdf_streets_f.plot(ax=ax, color='grey', alpha=0.5, zorder=1)\n",
    "gdf_trees_f.plot(\n",
    "    ax = ax,\n",
    "    markersize = 0.05,\n",
    "    color = 'green',\n",
    "    alpha = 0.1,\n",
    "    zorder = 2\n",
    ")\n",
    "gdf_traffic_f.plot(\n",
    "    ax = ax,\n",
    "    column = 'Avg_Vol',\n",
    "    legend = True,\n",
    "    legend_kwds = dict(\n",
    "        label = 'Average Traffic Volume',\n",
    "        orientation = 'horizontal',\n",
    "        shrink = 0.5,\n",
    "        pad = 0,\n",
    "    ),\n",
    "    markersize = 5,\n",
    "    cmap = 'Reds',\n",
    "    zorder = 3\n",
    ")\n",
    "ax.set_axis_off()\n",
    "ax.set_title('Manhattan Traffic Volume in 2017\\nwith Street Trees')\n",
    "fig.tight_layout()\n",
    "fig.savefig(plot_path + 'traffic_trees_manhattan.png', dpi=300)"
   ]
  },
  {
   "cell_type": "code",
   "execution_count": null,
   "metadata": {},
   "outputs": [],
   "source": [
    "gdf_streets_f"
   ]
  },
  {
   "cell_type": "code",
   "execution_count": null,
   "metadata": {},
   "outputs": [],
   "source": [
    "# remove all streets left of -74.035 (Statue of Liberty and Ellis Island)\n",
    "size_before = gdf_streets_f.shape[0]\n",
    "gdf_streets_f = gdf_streets_f[gdf_streets_f['geometry'].apply(lambda x: x.centroid.x > -74.035)]\n",
    "print(f'Removed {size_before - gdf_streets_f.shape[0]} streets')"
   ]
  },
  {
   "cell_type": "markdown",
   "metadata": {},
   "source": [
    "---\n",
    "\n",
    "Finally, we save the Manhattan gdfs to shapefiles for later use."
   ]
  },
  {
   "cell_type": "code",
   "execution_count": null,
   "metadata": {},
   "outputs": [],
   "source": [
    "for gdf, name in zip([gdf_streets_f, gdf_traffic_f, gdf_trees_f], ['streets', 'traffic', 'trees']):\n",
    "    target_path = shp_path + name + '/'\n",
    "    if not os.path.exists(target_path):\n",
    "        os.mkdir(target_path)\n",
    "    # some column names will be truncated, but it's no big deal\n",
    "    with warnings.catch_warnings():\n",
    "        warnings.simplefilter('ignore')\n",
    "        gdf.to_file(target_path + f'M_{name}.shp')"
   ]
  }
 ],
 "metadata": {
  "kernelspec": {
   "display_name": "Python 3.10.8 ('venv': venv)",
   "language": "python",
   "name": "python3"
  },
  "language_info": {
   "codemirror_mode": {
    "name": "ipython",
    "version": 3
   },
   "file_extension": ".py",
   "mimetype": "text/x-python",
   "name": "python",
   "nbconvert_exporter": "python",
   "pygments_lexer": "ipython3",
   "version": "3.10.8 (main, Oct 13 2022, 09:48:40) [Clang 14.0.0 (clang-1400.0.29.102)]"
  },
  "orig_nbformat": 4,
  "vscode": {
   "interpreter": {
    "hash": "64750f2cf9258ce55ff4fa4c381516413ca0f47d1da9e17919bacb4d3e3ff9fe"
   }
  }
 },
 "nbformat": 4,
 "nbformat_minor": 2
}
