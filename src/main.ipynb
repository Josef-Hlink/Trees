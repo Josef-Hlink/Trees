{
 "cells": [
  {
   "cell_type": "markdown",
   "metadata": {},
   "source": [
    "# Main"
   ]
  },
  {
   "cell_type": "markdown",
   "metadata": {},
   "source": [
    "### Prerequisites"
   ]
  },
  {
   "cell_type": "markdown",
   "metadata": {},
   "source": [
    "**Imports**"
   ]
  },
  {
   "cell_type": "code",
   "execution_count": null,
   "metadata": {},
   "outputs": [],
   "source": [
    "import os\n",
    "import sys\n",
    "import warnings\n",
    "import numpy as np\n",
    "import pandas as pd\n",
    "import geopandas as gpd\n",
    "from shapely import wkt\n",
    "from shapely.geometry import Polygon\n",
    "import matplotlib.pyplot as plt"
   ]
  },
  {
   "cell_type": "markdown",
   "metadata": {},
   "source": [
    "**Fix directories, define path variables**"
   ]
  },
  {
   "cell_type": "code",
   "execution_count": null,
   "metadata": {},
   "outputs": [],
   "source": [
    "# make sure notebook is ran from src\n",
    "cwd = os.getcwd()\n",
    "if not cwd.split('/')[-1] == 'src':\n",
    "    try:\n",
    "        os.chdir('src')\n",
    "    except FileNotFoundError:\n",
    "        print('Error: please run from src dir or project root')\n",
    "        sys.exit(1)\n",
    "\n",
    "# define paths\n",
    "data_path = '../data/'\n",
    "csv_path = data_path + 'csv/'\n",
    "shp_path = data_path + 'shapefiles/'\n",
    "plot_path = '../plots/'\n",
    "if not os.path.exists(plot_path):\n",
    "    os.mkdir(plot_path)"
   ]
  },
  {
   "cell_type": "markdown",
   "metadata": {},
   "source": [
    "---\n",
    "\n",
    "### Read data"
   ]
  },
  {
   "cell_type": "code",
   "execution_count": null,
   "metadata": {},
   "outputs": [],
   "source": [
    "# these are just manhattan gdfs, with correct projection\n",
    "gdf_streets: gpd.GeoDataFrame = gpd.read_file(shp_path + 'streets/M_streets.shp')\n",
    "gdf_traffic: gpd.GeoDataFrame = gpd.read_file(shp_path + 'traffic/M_traffic.shp')\n",
    "gdf_trees: gpd.GeoDataFrame = gpd.read_file(shp_path + 'trees/M_trees.shp')"
   ]
  },
  {
   "cell_type": "markdown",
   "metadata": {},
   "source": [
    "Now we create a grid and assign the relevant data to each cell."
   ]
  },
  {
   "cell_type": "code",
   "execution_count": null,
   "metadata": {},
   "outputs": [],
   "source": [
    "# define a bounding box around Manhattan\n",
    "xmin, ymin, xmax, ymax = gdf_streets.total_bounds\n",
    "bbox = Polygon([(xmin, ymin), (xmin, ymax), (xmax, ymax), (xmax, ymin)])\n",
    "\n",
    "# define granularity of grid\n",
    "l, w = .005, .005\n",
    "\n",
    "# create a grid of polygons\n",
    "cols = list(np.arange(xmin, xmax+w, w))\n",
    "rows = list(np.arange(ymin, ymax+l, l))\n",
    "polygons = []\n",
    "for x in cols[:-1]:\n",
    "    for y in rows[:-1]:\n",
    "        polygons.append(Polygon([(x, y), (x, y+l), (x+w, y+l), (x+w, y), (x, y)]))\n",
    "\n",
    "# create a gdf from the grid\n",
    "grid = gpd.GeoDataFrame({'geometry': polygons})\n",
    "grid.crs = 4326"
   ]
  },
  {
   "cell_type": "code",
   "execution_count": null,
   "metadata": {},
   "outputs": [],
   "source": [
    "# plot the grid\n",
    "fig, ax = plt.subplots(figsize=(10, 10))\n",
    "gdf_streets.plot(ax=ax, color='grey', alpha=0.5, zorder=1)\n",
    "grid.plot(ax=ax, color='none', edgecolor='black', linewidth=1, zorder=2)\n",
    "gdf_trees.plot(ax=ax, markersize=0.05, color='green', alpha=0.1, zorder=3)\n",
    "gdf_traffic.plot(ax=ax, column='Avg_Vol', markersize=5, cmap='Reds', zorder=3)\n",
    "ax.set_axis_off()"
   ]
  }
 ],
 "metadata": {
  "kernelspec": {
   "display_name": "Python 3.10.8 ('venv': venv)",
   "language": "python",
   "name": "python3"
  },
  "language_info": {
   "codemirror_mode": {
    "name": "ipython",
    "version": 3
   },
   "file_extension": ".py",
   "mimetype": "text/x-python",
   "name": "python",
   "nbconvert_exporter": "python",
   "pygments_lexer": "ipython3",
   "version": "3.10.8"
  },
  "orig_nbformat": 4,
  "vscode": {
   "interpreter": {
    "hash": "64750f2cf9258ce55ff4fa4c381516413ca0f47d1da9e17919bacb4d3e3ff9fe"
   }
  }
 },
 "nbformat": 4,
 "nbformat_minor": 2
}
