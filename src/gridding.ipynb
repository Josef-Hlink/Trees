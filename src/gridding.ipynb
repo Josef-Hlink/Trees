{
 "cells": [
  {
   "cell_type": "markdown",
   "metadata": {},
   "source": [
    "# Main"
   ]
  },
  {
   "cell_type": "markdown",
   "metadata": {},
   "source": [
    "### Prerequisites"
   ]
  },
  {
   "cell_type": "markdown",
   "metadata": {},
   "source": [
    "**Imports**"
   ]
  },
  {
   "cell_type": "code",
   "execution_count": null,
   "metadata": {},
   "outputs": [],
   "source": [
    "import os\n",
    "import sys\n",
    "import warnings\n",
    "import numpy as np\n",
    "import geopandas as gpd\n",
    "from shapely.geometry import Polygon\n",
    "import matplotlib.pyplot as plt"
   ]
  },
  {
   "cell_type": "markdown",
   "metadata": {},
   "source": [
    "**Fix directories, define path variables**"
   ]
  },
  {
   "cell_type": "code",
   "execution_count": null,
   "metadata": {},
   "outputs": [],
   "source": [
    "# make sure notebook is ran from src\n",
    "cwd = os.getcwd()\n",
    "if not cwd.split('/')[-1] == 'src':\n",
    "    try:\n",
    "        os.chdir('src')\n",
    "    except FileNotFoundError:\n",
    "        print('Error: please run from src dir or project root')\n",
    "        sys.exit(1)\n",
    "\n",
    "# define paths\n",
    "data_path = '../data/'\n",
    "csv_path = data_path + 'csv/'\n",
    "shp_path = data_path + 'shapefiles/'\n",
    "plot_path = '../plots/'\n",
    "if not os.path.exists(plot_path):\n",
    "    os.mkdir(plot_path)"
   ]
  },
  {
   "cell_type": "markdown",
   "metadata": {},
   "source": [
    "---\n",
    "\n",
    "### Read data"
   ]
  },
  {
   "cell_type": "code",
   "execution_count": null,
   "metadata": {},
   "outputs": [],
   "source": [
    "# these are just manhattan gdfs, with correct projection\n",
    "gdf_streets: gpd.GeoDataFrame = gpd.read_file(shp_path + 'streets/M_streets.shp')\n",
    "gdf_traffic: gpd.GeoDataFrame = gpd.read_file(shp_path + 'traffic/M_traffic.shp')\n",
    "gdf_trees: gpd.GeoDataFrame = gpd.read_file(shp_path + 'trees/M_trees.shp')"
   ]
  },
  {
   "cell_type": "markdown",
   "metadata": {},
   "source": [
    "Now we create a grid."
   ]
  },
  {
   "cell_type": "code",
   "execution_count": null,
   "metadata": {},
   "outputs": [],
   "source": [
    "# define a bounding box around Manhattan\n",
    "xmin, ymin, xmax, ymax = gdf_streets.total_bounds\n",
    "bbox = Polygon([(xmin, ymin), (xmin, ymax), (xmax, ymax), (xmax, ymin)])\n",
    "\n",
    "# define granularity of grid\n",
    "l, w = .005, .005\n",
    "\n",
    "# create a grid of polygons\n",
    "cols = list(np.arange(xmin, xmax+w, w))\n",
    "rows = list(np.arange(ymin, ymax+l, l))\n",
    "polygons = []\n",
    "for x in cols[:-1]:\n",
    "    for y in rows[:-1]:\n",
    "        polygons.append(Polygon([(x, y), (x, y+l), (x+w, y+l), (x+w, y), (x, y)]))\n",
    "\n",
    "# create a gdf from the grid\n",
    "grid = gpd.GeoDataFrame({'geometry': polygons})\n",
    "grid.crs = 4326\n",
    "\n",
    "# remove grid cells that do not intersect with any street\n",
    "size_before = grid.shape[0]\n",
    "grid = grid[grid.intersects(gdf_streets.unary_union)]\n",
    "print(f'Grid cells trimmed from {grid.shape[0]} to {size_before}')"
   ]
  },
  {
   "cell_type": "code",
   "execution_count": null,
   "metadata": {},
   "outputs": [],
   "source": [
    "def add_grid_plot(ax, gdf_streets, gdf_traffic, gdf_trees, grid, title, lims):\n",
    "    gdf_streets.plot(ax=ax, color='grey', alpha=0.5, zorder=1)\n",
    "    grid.plot(ax=ax, color='none', edgecolor='black', linewidth=1, zorder=2)\n",
    "    gdf_trees.plot(ax=ax, markersize=0.05, color='green', alpha=0.1, zorder=3)\n",
    "    gdf_traffic.plot(ax=ax, column='Avg_Vol', markersize=5, cmap='Reds', zorder=3)\n",
    "    # set lims\n",
    "    ax.set_xlim(lims[0], lims[2])\n",
    "    ax.set_ylim(lims[1], lims[3])\n",
    "    ax.set_axis_off()\n",
    "    ax.set_title(title)"
   ]
  },
  {
   "cell_type": "code",
   "execution_count": null,
   "metadata": {},
   "outputs": [],
   "source": [
    "fig, (ax1, ax2) = plt.subplots(1, 2, figsize=(10, 10))\n",
    "\n",
    "lims = xmin-w, ymin-l, xmax+w, ymax+l  # comes from gdf_streets\n",
    "add_grid_plot(ax1, gdf_streets, gdf_traffic, gdf_trees, grid, 'before', lims)\n",
    "\n",
    "grid_size_before, streets_size_before = grid.shape[0], gdf_streets.shape[0]\n",
    "\n",
    "# remove the island cells\n",
    "lowest_x = -74.03676859535565  # = lowest x value of the main land\n",
    "# we're using geographic CRS, but we know this coordinate is correct\n",
    "with warnings.catch_warnings():\n",
    "    warnings.simplefilter('ignore')\n",
    "    grid = grid[grid.geometry.centroid.x > lowest_x]\n",
    "# remove the streets that were inside these cells\n",
    "gdf_streets = gdf_streets[gdf_streets.geometry.intersects(grid.unary_union)]\n",
    "\n",
    "print(f'Grid cells trimmed from {grid_size_before} to {grid.shape[0]}')\n",
    "print(f'Streets trimmed from {streets_size_before} to {gdf_streets.shape[0]}')\n",
    "\n",
    "add_grid_plot(ax2, gdf_streets, gdf_traffic, gdf_trees, grid, 'after', lims)\n",
    "fig.tight_layout()"
   ]
  },
  {
   "cell_type": "markdown",
   "metadata": {},
   "source": [
    "Now we can assign the relevant data to each grid cell."
   ]
  },
  {
   "cell_type": "code",
   "execution_count": null,
   "metadata": {},
   "outputs": [],
   "source": [
    "# we would get a SettingWithCopyWarning, but it's not a problem\n",
    "with warnings.catch_warnings():\n",
    "    warnings.simplefilter('ignore')\n",
    "    grid['trees'] = grid.geometry.apply(lambda x: gdf_trees[gdf_trees.geometry.within(x)].shape[0])\n",
    "    grid['traffic'] = grid.geometry.apply(lambda x: gdf_traffic[gdf_traffic.geometry.within(x)].Avg_Vol.mean())"
   ]
  },
  {
   "cell_type": "code",
   "execution_count": null,
   "metadata": {},
   "outputs": [],
   "source": [
    "fig, (ax1, ax2) = plt.subplots(1, 2, figsize=(10, 10))\n",
    "for ax, col, cmap in zip([ax1, ax2], ['trees', 'traffic'], ['Greens', 'Reds']):\n",
    "    grid.plot(ax=ax, column=col, cmap=cmap, legend=True, zorder=1, legend_kwds={'orientation': 'horizontal', 'shrink': 0.5})\n",
    "    gdf_streets.plot(ax=ax, color='grey', alpha=0.1, zorder=2)\n",
    "    ax.set_axis_off()\n",
    "    ax.set_title(col.capitalize())\n",
    "fig.tight_layout()\n",
    "fig.savefig(plot_path + 'grid_raw.png', dpi=500)"
   ]
  },
  {
   "cell_type": "markdown",
   "metadata": {},
   "source": [
    "We'll save the raw grid data to a shapefile again."
   ]
  },
  {
   "cell_type": "code",
   "execution_count": null,
   "metadata": {},
   "outputs": [],
   "source": [
    "if not os.path.exists((target := shp_path + 'grid/')):\n",
    "    os.mkdir(target)\n",
    "grid.to_file(target + 'M_grid.shp')"
   ]
  }
 ],
 "metadata": {
  "kernelspec": {
   "display_name": "Python 3.10.8 ('venv': venv)",
   "language": "python",
   "name": "python3"
  },
  "language_info": {
   "codemirror_mode": {
    "name": "ipython",
    "version": 3
   },
   "file_extension": ".py",
   "mimetype": "text/x-python",
   "name": "python",
   "nbconvert_exporter": "python",
   "pygments_lexer": "ipython3",
   "version": "3.10.8"
  },
  "orig_nbformat": 4,
  "vscode": {
   "interpreter": {
    "hash": "64750f2cf9258ce55ff4fa4c381516413ca0f47d1da9e17919bacb4d3e3ff9fe"
   }
  }
 },
 "nbformat": 4,
 "nbformat_minor": 2
}
