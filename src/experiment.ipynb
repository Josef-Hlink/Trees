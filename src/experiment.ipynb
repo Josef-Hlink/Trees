{
 "cells": [
  {
   "attachments": {},
   "cell_type": "markdown",
   "metadata": {},
   "source": [
    "# Experiment"
   ]
  },
  {
   "cell_type": "markdown",
   "metadata": {},
   "source": [
    "### Prerequisites"
   ]
  },
  {
   "cell_type": "markdown",
   "metadata": {},
   "source": [
    "**Imports**"
   ]
  },
  {
   "cell_type": "code",
   "execution_count": null,
   "metadata": {},
   "outputs": [],
   "source": [
    "import os\n",
    "import sys\n",
    "import warnings\n",
    "import numpy as np\n",
    "import pandas as pd\n",
    "import geopandas as gpd\n",
    "from shapely.geometry import Polygon, LineString, MultiLineString\n",
    "import pykrige.kriging_tools as kt\n",
    "from pykrige.ok import OrdinaryKriging\n",
    "import matplotlib.pyplot as plt"
   ]
  },
  {
   "cell_type": "markdown",
   "metadata": {},
   "source": [
    "**Fix directories, define path variables**"
   ]
  },
  {
   "cell_type": "code",
   "execution_count": null,
   "metadata": {},
   "outputs": [],
   "source": [
    "# make sure notebook is ran from src\n",
    "cwd = os.getcwd()\n",
    "if not cwd.split(os.sep)[-1] == 'src':\n",
    "    try:\n",
    "        os.chdir('src')\n",
    "    except FileNotFoundError:\n",
    "        print('Error: please run from src dir or project root')\n",
    "        sys.exit(1)\n",
    "\n",
    "# define paths\n",
    "path = lambda x: os.path.join(*x.split('/')) + os.sep\n",
    "shp_path = path('../data/shapefiles')\n",
    "plot_path = path('../plots')"
   ]
  },
  {
   "attachments": {},
   "cell_type": "markdown",
   "metadata": {},
   "source": [
    "**Read data**"
   ]
  },
  {
   "cell_type": "code",
   "execution_count": null,
   "metadata": {},
   "outputs": [],
   "source": [
    "# these are just manhattan gdfs, with correct projection\n",
    "STREETS: gpd.GeoDataFrame = gpd.read_file(shp_path + 'streets' + os.sep + 'M_streets.shp')\n",
    "TRAFFIC: gpd.GeoDataFrame = gpd.read_file(shp_path + 'traffic' + os.sep + 'M_traffic.shp')\n",
    "TREES: gpd.GeoDataFrame = gpd.read_file(shp_path + 'trees' + os.sep + 'M_trees.shp')"
   ]
  },
  {
   "attachments": {},
   "cell_type": "markdown",
   "metadata": {},
   "source": [
    "**Set Random Seed**"
   ]
  },
  {
   "cell_type": "code",
   "execution_count": null,
   "metadata": {},
   "outputs": [],
   "source": [
    "seed = 2112\n",
    "np.random.seed(seed)"
   ]
  },
  {
   "attachments": {},
   "cell_type": "markdown",
   "metadata": {},
   "source": [
    "---\n",
    "\n",
    "### Grid Setup"
   ]
  },
  {
   "attachments": {},
   "cell_type": "markdown",
   "metadata": {},
   "source": [
    "**Create grid**"
   ]
  },
  {
   "cell_type": "code",
   "execution_count": null,
   "metadata": {},
   "outputs": [],
   "source": [
    "# define a bounding box around Manhattan\n",
    "xmin, ymin, xmax, ymax = STREETS.total_bounds\n",
    "bbox = Polygon([(xmin, ymin), (xmin, ymax), (xmax, ymax), (xmax, ymin)])\n",
    "\n",
    "# define granularity of grid (units are degrees [EPSG:4326])\n",
    "l, w = .005, .005\n",
    "\n",
    "# create a grid of polygons\n",
    "cols = list(np.arange(xmin, xmax+w, w))\n",
    "rows = list(np.arange(ymin, ymax+l, l))\n",
    "polygons = []\n",
    "for x in cols[:-1]:\n",
    "    for y in rows[:-1]:\n",
    "        polygons.append(Polygon([(x, y), (x, y+l), (x+w, y+l), (x+w, y), (x, y)]))\n",
    "\n",
    "# create a gdf from the grid\n",
    "GRID = gpd.GeoDataFrame({'geometry': polygons})\n",
    "GRID.crs = 4326\n",
    "\n",
    "# remove grid cells that do not intersect with any street\n",
    "size_before = GRID.shape[0]\n",
    "GRID = GRID[GRID.intersects(STREETS.unary_union)]\n",
    "GRID = GRID.reset_index(drop=True)\n",
    "print(f'Grid cells trimmed to {GRID.shape[0]} from {size_before}')"
   ]
  },
  {
   "attachments": {},
   "cell_type": "markdown",
   "metadata": {},
   "source": [
    "**Assign \"easy\" values to grid**"
   ]
  },
  {
   "cell_type": "code",
   "execution_count": null,
   "metadata": {},
   "outputs": [],
   "source": [
    "# we would get a SettingWithCopyWarning, but it's not a problem\n",
    "with warnings.catch_warnings():\n",
    "    warnings.simplefilter('ignore')\n",
    "    # number of trees within grid cell\n",
    "    GRID['n_trees'] = GRID.geometry.apply(lambda x: TREES[TREES.geometry.within(x)].shape[0])\n",
    "    # average of all traffic volume probes within grid cell, multiplied by 96 (15 min intervals in a day)\n",
    "    GRID['trfc_raw'] = GRID.geometry.apply(lambda x: TRAFFIC[TRAFFIC.geometry.within(x)].Avg_Vol.mean() * 96)"
   ]
  },
  {
   "attachments": {},
   "cell_type": "markdown",
   "metadata": {},
   "source": [
    "**Plot to check**"
   ]
  },
  {
   "cell_type": "code",
   "execution_count": null,
   "metadata": {},
   "outputs": [],
   "source": [
    "# this dict will be used later as well, so we define all titles here\n",
    "titles: dict[str] = {\n",
    "    'n_trees': 'Number of Trees',\n",
    "    'trfc_raw': 'Traffic Volume (raw)',\n",
    "    'tree_dist': 'Average Distance between Trees',\n",
    "    'tree_distl': 'Average Distance between Trees (log)',\n",
    "    'street_len': 'Street Length per Grid Cell',\n",
    "    'trfc_itp': 'Traffic Volume (interpolated)',\n",
    "}"
   ]
  },
  {
   "cell_type": "code",
   "execution_count": null,
   "metadata": {},
   "outputs": [],
   "source": [
    "fig, (ax1, ax2) = plt.subplots(1, 2, figsize=(10, 10))\n",
    "for ax, col, cmap in zip([ax1, ax2], ['n_trees', 'trfc_raw'], ['Greens', 'Reds']):\n",
    "    GRID.plot(ax=ax, column=col, cmap=cmap, legend=True, zorder=1, legend_kwds={'orientation': 'horizontal', 'shrink': 0.5})\n",
    "    STREETS.plot(ax=ax, color='grey', alpha=0.1, zorder=2)\n",
    "    ax.set_axis_off()\n",
    "    ax.set_title(titles[col])\n",
    "fig.tight_layout()\n",
    "fig.savefig(plot_path + 'grid_raw.png', dpi=500)"
   ]
  },
  {
   "attachments": {},
   "cell_type": "markdown",
   "metadata": {},
   "source": [
    "---\n",
    "\n",
    "### Street lengths per grid cell"
   ]
  },
  {
   "attachments": {},
   "cell_type": "markdown",
   "metadata": {},
   "source": [
    "**Define `haversine` function**"
   ]
  },
  {
   "cell_type": "code",
   "execution_count": null,
   "metadata": {},
   "outputs": [],
   "source": [
    "def haversine(p1: tuple[float], p2: tuple[float]) -> float:\n",
    "    \"\"\" Calculate the great circle distance in meters between two points on the earth. \"\"\"\n",
    "    # convert decimal degrees to radians \n",
    "    lon1, lat1, lon2, lat2 = map(np.radians, [p1[0], p1[1], p2[0], p2[1]])\n",
    "    # haversine formula \n",
    "    dlon = lon2 - lon1 \n",
    "    dlat = lat2 - lat1 \n",
    "    a = np.sin(dlat/2)**2 + np.cos(lat1) * np.cos(lat2) * np.sin(dlon/2)**2\n",
    "    c = 2 * np.arcsin(np.sqrt(a)) \n",
    "    r = 6371  # radius of earth in kilometers\n",
    "    return c * r * 1000"
   ]
  },
  {
   "attachments": {},
   "cell_type": "markdown",
   "metadata": {},
   "source": [
    "**Calculate total street length per cell**\n",
    "\n",
    "A more succinct definition will follow later.\n",
    "This is just a proof of concept with four random cells to visualize how we get to the street lengths."
   ]
  },
  {
   "cell_type": "code",
   "execution_count": null,
   "metadata": {},
   "outputs": [],
   "source": [
    "# take three random grid cells\n",
    "cells = [row.geometry for _, row in GRID.sample(3).iterrows()]\n",
    "\n",
    "street_name_replacements = {\n",
    "    'E ': 'East ', 'W ': 'West ', 'N ': 'North ', 'S ': 'South ',\n",
    "    'St': 'Street', 'Ave': 'Avenue', 'Pl': 'Place', 'Rd': 'Road',\n",
    "    'Dr': 'Drive', 'Blvd': 'Boulevard', 'Ct': 'Court', 'Ln': 'Lane',\n",
    "    'Pkwy': 'Parkway', 'Ter': 'Terrace', 'Cir': 'Circle', 'Plz': 'Plaza',\n",
    "    'Hwy': 'Highway', 'Expy': 'Expressway', 'Brg': 'Bridge', 'Trl': 'Trail',\n",
    "    'Vyd': 'Viaduct', 'Mnr': 'Manor', 'Tunl': 'Tunnel', 'Rte': 'Route'\n",
    "}\n",
    "\n",
    "def plot_cell_streets(ax: plt.Axes, cell_geometry: Polygon, label: str) -> None:\n",
    "    \"\"\" Plot the streets of a grid cell. \"\"\"\n",
    "\n",
    "    # create patch object of boundary of cell (cell.exterior.coords)\n",
    "    ax.add_patch(plt.Polygon(cell_geometry.exterior.coords, facecolor='none', edgecolor='black', linewidth=1, zorder=2))\n",
    "    ax.set_axis_off()\n",
    "\n",
    "    # plot the cell's street segments\n",
    "    streets = STREETS[STREETS.geometry.intersects(cell_geometry)]\n",
    "    streets.plot(ax=ax, color='grey', alpha=0.5, zorder=1)\n",
    "    \n",
    "    segments = [cell_geometry.intersection(line) for line in streets.geometry]\n",
    "    distances, centroids = [], []\n",
    "\n",
    "    colors = [f'C{i}' for i in range(12)]\n",
    "    ci = 0\n",
    "\n",
    "    def recurse(segment):\n",
    "        \"\"\" Recursively parse the segments of a MultiLineString. \"\"\"\n",
    "        nonlocal ci\n",
    "        if isinstance(segment, LineString):\n",
    "            start, end = segment.coords[0], segment.coords[-1]\n",
    "            distances.append(haversine(start, end))\n",
    "            centroids.append(((start[0] + end[0]) / 2, (start[1] + end[1]) / 2))\n",
    "            ax.plot(*zip(*segment.coords), color=colors[ci%12], zorder=3)\n",
    "            ci += 1\n",
    "        elif isinstance(segment, MultiLineString):\n",
    "            # MultiLineString has no coords, but multiple LineStrings which do\n",
    "            for seg_part in segment.geoms:\n",
    "                recurse(seg_part)\n",
    "        else:\n",
    "            raise ValueError(f'Unexpected type: {type(segment)}, expected LineString or MultiLineString')\n",
    "\n",
    "    for segment in segments:\n",
    "        recurse(segment)\n",
    "\n",
    "    ci = 0\n",
    "    # show length of each street segment at its midpoint\n",
    "    for distance, centroid in zip(distances, centroids):\n",
    "        # distance with transparent colored patch to make text more readable\n",
    "        ax.text(centroid[0], centroid[1], f'{distance:.0f}', fontsize=8, color='black', ha='center', va='center', zorder=4, \n",
    "                bbox=dict(facecolor=colors[ci%12], edgecolor='none', alpha=0.2, boxstyle='round, pad=0.2'))\n",
    "        ci += 1\n",
    "\n",
    "    # find the street name that occurs most often in the segments\n",
    "    street_names = streets['full_stree'].value_counts().sort_values(ascending=False).index\n",
    "    street_name: str = street_names[0].lower().title()\n",
    "    for abbr, full in street_name_replacements.items():\n",
    "        street_name = street_name.replace(abbr, full)\n",
    "    ax.set_title(\n",
    "        f'{street_name} ({label})\\ntotal length: {sum(distances):.0f} $m$',\n",
    "        fontsize=10, color='black', ha='center', va='center', zorder=5\n",
    "    )\n",
    "\n",
    "    return\n",
    "\n",
    "# create figure object\n",
    "fig, axes = plt.subplots(2, 2, figsize=(10, 10))\n",
    "for ax, cell_geometry, label in zip(axes.flatten(), cells, ['A', 'B', 'C']):\n",
    "    plot_cell_streets(ax, cell_geometry, label)\n",
    "# plot grid in gray on fourth subplot\n",
    "GRID.plot(ax=axes[1, 1], color='grey', alpha=0.1, zorder=1)\n",
    "# plot the three sampled cells in blue\n",
    "for cell_geometry, label in zip(cells, ['A', 'B', 'C']):\n",
    "    axes[1, 1].add_patch(plt.Polygon(cell_geometry.exterior.coords, facecolor='blue', edgecolor='blue', linewidth=1, zorder=2))\n",
    "    x, y = cell_geometry.centroid.coords[0]\n",
    "    axes[1, 1].text(x, y, label, fontsize=10, color='white', ha='center', va='center', zorder=3)\n",
    "axes[1, 1].set_title(f'Sampled Cells (seed {seed})', fontsize=10, color='black', ha='center', va='center', zorder=5)\n",
    "axes[1, 1].set_axis_off()\n",
    "fig.tight_layout()\n",
    "fig.subplots_adjust(wspace=0.05, hspace=0.05)\n",
    "fig.suptitle('Length Definition', fontsize=16, color='black', weight='bold', ha='center', va='center')\n",
    "fig.savefig(plot_path + 'length_definition.pdf', dpi=500)"
   ]
  },
  {
   "attachments": {},
   "cell_type": "markdown",
   "metadata": {},
   "source": [
    "Here we see that the clipping does indeed work as intended.\n",
    "There is also no overlap between the segments.\n",
    "One shortcoming however is that the segments are calculated by taking the haversine distance between the start and end points of each segment, which is not robust against curvature in the roads.\n",
    "Manhattan's famously grid-like nature minimizes this effect, but it is important to keep in mind."
   ]
  },
  {
   "attachments": {},
   "cell_type": "markdown",
   "metadata": {},
   "source": [
    "**Apply to `GRID`**"
   ]
  },
  {
   "cell_type": "code",
   "execution_count": null,
   "metadata": {},
   "outputs": [],
   "source": [
    "def get_total_street_length(cell_geometry: Polygon):\n",
    "    \"\"\" Calculate the total length of all street segments within a cell. \"\"\"\n",
    "\n",
    "    streets = STREETS[STREETS.geometry.intersects(cell_geometry)]\n",
    "    segments = [cell_geometry.intersection(line) for line in streets.geometry]\n",
    "    total_length = 0\n",
    "\n",
    "    def recurse(segment):\n",
    "        \"\"\" Recursively parse the segments of a MultiLineString. \"\"\"\n",
    "        nonlocal total_length\n",
    "        if isinstance(segment, LineString):\n",
    "            start, end = segment.coords[0], segment.coords[-1]\n",
    "            total_length += haversine(start, end)\n",
    "        elif isinstance(segment, MultiLineString):\n",
    "            # MultiLineString has no coords, but multiple LineStrings which do\n",
    "            for seg_part in segment.geoms:\n",
    "                recurse(seg_part)\n",
    "        else:\n",
    "            raise ValueError(f'Unexpected type: {type(segment)}, expected LineString or MultiLineString')\n",
    "    \n",
    "    for segment in segments:\n",
    "        recurse(segment)\n",
    "\n",
    "    return total_length\n",
    "\n",
    "GRID['street_len'] = GRID.geometry.apply(get_total_street_length)"
   ]
  },
  {
   "attachments": {},
   "cell_type": "markdown",
   "metadata": {},
   "source": [
    "**Inspect results**"
   ]
  },
  {
   "cell_type": "code",
   "execution_count": null,
   "metadata": {},
   "outputs": [],
   "source": [
    "fig, (ax1, ax2) = plt.subplots(1, 2, figsize=(10, 5))\n",
    "\n",
    "GRID.plot(ax=ax1, column='street_len', cmap='Purples', legend=True, zorder=1, legend_kwds={'orientation': 'horizontal', 'shrink': 0.5})\n",
    "STREETS.plot(ax=ax1, color='grey', alpha=0.2, linewidth=0.5, zorder=2)\n",
    "ax1.set_axis_off()\n",
    "\n",
    "bins = GRID.street_len.hist(ax=ax2, bins=50, color='grey')\n",
    "for i, patch in enumerate(bins.patches):\n",
    "    patch.set_facecolor(plt.cm.Purples(i / len(bins.patches)))\n",
    "    patch.set_edgecolor('black')\n",
    "ax2.set_axisbelow(True)\n",
    "ax2.set_xlabel('Street Length (m)')\n",
    "ax2.set_ylabel('Count')\n",
    "\n",
    "# fig.set_size_inches(10, 5)\n",
    "fig.subplots_adjust(wspace=0.05, hspace=0.05)\n",
    "\n",
    "fig.suptitle('Total Street Length per Grid Cell', fontsize=16, color='black', weight='bold', ha='center', va='center', y=0.95)\n",
    "fig.tight_layout()\n",
    "fig.savefig(plot_path + 'total_street_length.pdf', dpi=500)"
   ]
  },
  {
   "attachments": {},
   "cell_type": "markdown",
   "metadata": {},
   "source": [
    "---\n",
    "\n",
    "### Tree Distances"
   ]
  },
  {
   "attachments": {},
   "cell_type": "markdown",
   "metadata": {},
   "source": [
    "**Cell dimensions**\n",
    "\n",
    "Now that we have the `haversine` function, we can also define the dimension of our grid cells."
   ]
  },
  {
   "cell_type": "code",
   "execution_count": null,
   "metadata": {},
   "outputs": [],
   "source": [
    "cell = GRID.iloc[0].geometry\n",
    "cell_length = haversine(cell.exterior.coords[0], cell.exterior.coords[1])\n",
    "cell_width = haversine(cell.exterior.coords[0], cell.exterior.coords[3])\n",
    "cell_area = cell_length * cell_width\n",
    "print(f'Cell length: {cell_length:.0f} m, cell width: {cell_width:.0f} m, cell area: {cell_area:.0f} m²')"
   ]
  },
  {
   "attachments": {},
   "cell_type": "markdown",
   "metadata": {},
   "source": [
    "**Tree diameter**"
   ]
  },
  {
   "attachments": {},
   "cell_type": "markdown",
   "metadata": {},
   "source": [
    "In the case study of Özdemir ([2019](https://www.sciencedirect.com/science/article/pii/S0048969718351350)), the distance between trees (\"gap\") was calculated with the diameter of the trees in mind.\n",
    "Because we have no information about the diameter of the trees in our data, we will assume that the trees are of equal diameter.\n",
    "This average diameter can be calculated by taking the total canopy area of Manhattan and dividing it by the total number of trees.\n",
    "Data about the canopy area of Manhattan was taken from _The Nature Conservancy_: [The State of the Urban Forest in New York](https://www.nature.org/content/dam/tnc/nature/en/photos/TheStateoftheNYCUrbanForest.pdf)."
   ]
  },
  {
   "cell_type": "code",
   "execution_count": null,
   "metadata": {},
   "outputs": [],
   "source": [
    "land_area: int = 3820  # acres\n",
    "land_area *= 4046.86  # m²\n",
    "total_canopy = land_area * .2018\n",
    "# divide by total number of trees\n",
    "average_tree_canopy = total_canopy / TREES.shape[0]\n",
    "# diameter, assuming a perfect circle\n",
    "average_tree_diameter = 2 * np.sqrt(average_tree_canopy / np.pi)\n",
    "print(f'Average tree diameter: {average_tree_diameter:.2f} m')"
   ]
  },
  {
   "attachments": {},
   "cell_type": "markdown",
   "metadata": {},
   "source": [
    "**Filter data**"
   ]
  },
  {
   "attachments": {},
   "cell_type": "markdown",
   "metadata": {},
   "source": [
    "Based on the results of the previous section, we can calculate the average distance between two roadside trees in a grid cell by dividing the length of the street segments by the number of trees.\n",
    "A slight problem is that some cells have little to zero trees.\n",
    "This would lead to a division by zero error, or very large numbers that would throw off the scale of our model.\n",
    "\n",
    "To avoid this, we can set a minimum number of trees per cell, in our case 10.\n",
    "We can justify this by assuming that, if there are less than 10 roadside trees in an area of $0.23 \\ \\mathrm{km}^2$ (the area of a grid cell), then the area is probably not suitable for planting trees in the first place."
   ]
  },
  {
   "cell_type": "code",
   "execution_count": null,
   "metadata": {},
   "outputs": [],
   "source": [
    "GRID = GRID[GRID.n_trees >= 10]\n",
    "with warnings.catch_warnings():\n",
    "    warnings.simplefilter('ignore')\n",
    "    GRID['tree_dist'] = GRID.apply(lambda row: max(row['street_len'] / row['n_trees'] - average_tree_diameter, 0.1), axis=1)"
   ]
  },
  {
   "attachments": {},
   "cell_type": "markdown",
   "metadata": {},
   "source": [
    "**Inspect results**\n",
    "\n",
    "First we want to do a simple histogram of the calculated average distances.\n",
    "Because we expect the distribution to still be heavily left-skewed, we will calculate the logarithm of the distances and plot the distribution of these as well."
   ]
  },
  {
   "cell_type": "code",
   "execution_count": null,
   "metadata": {},
   "outputs": [],
   "source": [
    "# create column with log of tree distance\n",
    "with warnings.catch_warnings():\n",
    "    warnings.simplefilter('ignore')\n",
    "    GRID['tree_distl'] = np.log(GRID.tree_dist)\n",
    "\n",
    "fig, (ax1, ax2) = plt.subplots(1, 2, figsize=(6, 3))\n",
    "GRID.tree_dist.hist(ax=ax1, bins=50, color='grey')\n",
    "ax1.axvline(mean:=GRID.tree_dist.mean(), color='black', linestyle='dotted', linewidth=1, label=f'mean: {mean:.0f} m')\n",
    "ax1.axvline(median:=GRID.tree_dist.median(), color='black', linestyle='dashed', linewidth=1, label=f'median: {median:.0f} m')\n",
    "ax1.set_xlabel('Distance $[m]$')\n",
    "ax1.set_ylabel('Count')\n",
    "ax1.legend()\n",
    "ax1.set_title('Linear Scale')\n",
    "\n",
    "GRID.tree_distl.hist(ax=ax2, bins=50, color='grey')\n",
    "ax2.set_xlabel('Distance $[\\log(m)]$')\n",
    "ax2.set_ylabel('Count')\n",
    "ax2.set_title('Log Scale')\n",
    "\n",
    "fig.suptitle('Distance between Trees')\n",
    "fig.tight_layout()"
   ]
  },
  {
   "attachments": {},
   "cell_type": "markdown",
   "metadata": {},
   "source": [
    "Secondly, it should be very interesting to see the data plotted on the map.\n",
    "We also show the attributes that are used to calculate these values.\n",
    "Here, we also use the logarithm of the distances for a more clear visualization."
   ]
  },
  {
   "cell_type": "code",
   "execution_count": null,
   "metadata": {},
   "outputs": [],
   "source": [
    "fig, axes = plt.subplots(1, 3, figsize=(10, 10))\n",
    "for ax, col, cmap in zip(axes, ['n_trees', 'street_len', 'tree_distl'], ['Greens', 'Reds', 'Blues']):\n",
    "    GRID.plot(ax=ax, column=col, cmap=cmap, legend=True, legend_kwds={'orientation': 'horizontal', 'shrink': 0.5}, zorder=1)\n",
    "    STREETS.plot(ax=ax, color='grey', alpha=0.1, zorder=2)\n",
    "    ax.set_axis_off()\n",
    "    ax.set_title(titles[col])\n",
    "fig.tight_layout()\n",
    "fig.subplots_adjust(wspace=0.05, hspace=0.05)\n",
    "fig.savefig(plot_path + 'tree_distance1.pdf', dpi=500)"
   ]
  },
  {
   "attachments": {},
   "cell_type": "markdown",
   "metadata": {},
   "source": [
    "For completeness, we also create a plot similar to the total street length plot (histogram and map), but this time for the average distances between trees, both in the original scale and in the logarithmic scale."
   ]
  },
  {
   "cell_type": "code",
   "execution_count": null,
   "metadata": {},
   "outputs": [],
   "source": [
    "fig, axes = plt.subplots(2, 2, figsize=(10, 10), height_ratios=[2, 1])\n",
    "for ax, col in zip([axes[0][0], axes[0][1]], ['tree_dist', 'tree_distl']):\n",
    "    GRID.plot(ax=ax, column=col, cmap='Blues', legend=True, legend_kwds={'orientation': 'vertical', 'shrink': 0.5}, zorder=1)\n",
    "    STREETS.plot(ax=ax, color='grey', alpha=0.2, linewidth=0.5, zorder=2)\n",
    "    ax.set_axis_off()\n",
    "    ax.set_title(titles[col])\n",
    "for ax, col, xlabel in zip([axes[1][0], axes[1][1]], ['tree_dist', 'tree_distl'], ['Distance $[m]$', 'Distance $[\\log(m)]$']):\n",
    "    bins = GRID[col].hist(ax=ax, bins=50, color='grey', zorder=2)\n",
    "    for i, patch in enumerate(bins.patches):\n",
    "        patch.set_facecolor(plt.cm.Blues(i / len(bins.patches)))\n",
    "        patch.set_edgecolor('black')\n",
    "    if col == 'tree_dist':\n",
    "        ax.axvline(mean:=GRID[col].mean(), color='C1', linestyle='dotted', linewidth=2, label=f'mean: {mean:.0f} m', zorder=1)\n",
    "        ax.axvline(median:=GRID[col].median(), color='C1', linestyle='dashed', linewidth=2, label=f'median: {median:.0f} m', zorder=1)\n",
    "        ax.legend()\n",
    "    ax.set_axisbelow(True)\n",
    "    ax.set_xlabel(xlabel)\n",
    "    ax.set_ylabel('Count')\n",
    "fig.tight_layout()\n",
    "fig.subplots_adjust(wspace=0.15, hspace=0)\n",
    "fig.savefig(plot_path + 'tree_distance2.pdf', dpi=500)"
   ]
  },
  {
   "attachments": {},
   "cell_type": "markdown",
   "metadata": {},
   "source": [
    "---\n",
    "\n",
    "### Traffic Volume Interpolation"
   ]
  },
  {
   "attachments": {},
   "cell_type": "markdown",
   "metadata": {},
   "source": [
    "**Define Data Points**"
   ]
  },
  {
   "cell_type": "code",
   "execution_count": null,
   "metadata": {},
   "outputs": [],
   "source": [
    "x, y = TRAFFIC.geometry.x.values, TRAFFIC.geometry.y.values\n",
    "phi = TRAFFIC.Avg_Vol.values\n",
    "\n",
    "assert x.shape[0] == y.shape[0] == phi.shape[0]\n",
    "\n",
    "fig, ax = plt.subplots(figsize=(4, 5))\n",
    "STREETS.plot(ax=ax, color='gray', linewidth=0.5, zorder=1)\n",
    "cax = ax.scatter(x, y, c=phi, cmap='viridis', s=5, alpha=0.75, zorder=2)\n",
    "ax.set_title('Observations')\n",
    "ax.set_axis_off()\n",
    "fig.colorbar(cax, ax=ax, shrink=0.4)\n",
    "fig.tight_layout()"
   ]
  },
  {
   "attachments": {},
   "cell_type": "markdown",
   "metadata": {},
   "source": [
    "**Interpolate with Ordinary Kriging**"
   ]
  },
  {
   "cell_type": "code",
   "execution_count": null,
   "metadata": {},
   "outputs": [],
   "source": [
    "OK = OrdinaryKriging(x, y, phi, variogram_model='exponential', verbose=False, enable_plotting=False)\n",
    "minx, miny, maxx, maxy = GRID.total_bounds\n",
    "X = np.arange(minx, maxx, 0.005)\n",
    "Y = np.arange(miny, maxy-0.005, 0.005)\n",
    "zstar, ss = OK.execute('grid', X, Y)"
   ]
  },
  {
   "attachments": {},
   "cell_type": "markdown",
   "metadata": {},
   "source": [
    "**Inspect results**"
   ]
  },
  {
   "cell_type": "code",
   "execution_count": null,
   "metadata": {},
   "outputs": [],
   "source": [
    "fig, ax = plt.subplots(figsize=(6, 10))\n",
    "cax = ax.imshow(\n",
    "    zstar,\n",
    "    extent = (minx, maxx, miny, maxy),\n",
    "    cmap = 'viridis',\n",
    "    origin = 'lower',\n",
    "    alpha = 0.9,\n",
    "    zorder = 1\n",
    ")\n",
    "STREETS.plot(ax=ax, color='k', alpha=0.1, zorder=2)\n",
    "for i, row in GRID.iterrows():\n",
    "    x_, y_ = row.geometry.exterior.xy\n",
    "    ax.plot(x_, y_, color='w', alpha=0.2, zorder=3)\n",
    "ax.scatter(x, y, c=phi, cmap='viridis', edgecolors='k', s=10, zorder=3)\n",
    "ax.set_axis_off()\n",
    "ax.set_title('Traffic Volume Interpolation\\n(Ordinary Kriging)')\n",
    "fig.colorbar(cax, ax=ax, shrink=0.4)\n",
    "fig.tight_layout()\n",
    "fig.savefig(plot_path + 'ordinary_kriging.pdf', dpi=500)"
   ]
  },
  {
   "attachments": {},
   "cell_type": "markdown",
   "metadata": {},
   "source": [
    "The interpolated grid only covers a portion of the study area due to the selective trimming of the original data where we discarded grid cells with less than 10 trees.\n",
    "In order to illustrate what traffic data we are left with, we also trim the interpolated traffic volume grid to the same area and plot it next to the averages we previously calculated."
   ]
  },
  {
   "attachments": {},
   "cell_type": "markdown",
   "metadata": {},
   "source": [
    "**Add to `GRID`**"
   ]
  },
  {
   "cell_type": "code",
   "execution_count": null,
   "metadata": {},
   "outputs": [],
   "source": [
    "GRID['trfc_itp'] = np.nan\n",
    "for i, row in GRID.iterrows():\n",
    "    x_, y_ = row.geometry.exterior.xy\n",
    "    x_idx = np.argmin(np.abs(X - x_[0]))\n",
    "    y_idx = np.argmin(np.abs(Y - y_[0]))\n",
    "    # multiply by 96 to get the average daily traffic volume, because after kriging, the unit is 15 minutes\n",
    "    GRID.loc[i, 'trfc_itp'] = zstar[y_idx, x_idx] * 96"
   ]
  },
  {
   "attachments": {},
   "cell_type": "markdown",
   "metadata": {},
   "source": [
    "**Visualize**"
   ]
  },
  {
   "cell_type": "code",
   "execution_count": null,
   "metadata": {},
   "outputs": [],
   "source": [
    "fig, axes = plt.subplots(1, 2, figsize=(8, 8))\n",
    "for ax, col, cmap in zip(axes, ['trfc_raw', 'trfc_itp'], ['Reds', 'Reds']):\n",
    "    GRID.plot(ax=ax, column=col, cmap=cmap, legend=True, legend_kwds={'orientation': 'horizontal', 'shrink': 0.5}, zorder=1)\n",
    "    STREETS.plot(ax=ax, color='grey', alpha=0.1, zorder=2)\n",
    "    ax.set_axis_off()\n",
    "    ax.set_title(titles[col])\n",
    "fig.tight_layout()\n",
    "fig.subplots_adjust(wspace=0.05, hspace=0.05)\n",
    "fig.savefig(plot_path + 'traffic_interpolation.pdf', dpi=500)"
   ]
  },
  {
   "attachments": {},
   "cell_type": "markdown",
   "metadata": {},
   "source": [
    "**Save `GRID`**"
   ]
  },
  {
   "cell_type": "code",
   "execution_count": null,
   "metadata": {},
   "outputs": [],
   "source": [
    "target_path = shp_path + 'grid' + os.sep + 'M_grid.shp'\n",
    "with warnings.catch_warnings():\n",
    "    # some column names will be truncated, but it's no big deal\n",
    "    warnings.simplefilter('ignore')\n",
    "    GRID.to_file(target_path)"
   ]
  },
  {
   "attachments": {},
   "cell_type": "markdown",
   "metadata": {},
   "source": [
    "---\n",
    "\n",
    "### $\\mathrm{PM}_{2.5}$ Model"
   ]
  },
  {
   "attachments": {},
   "cell_type": "markdown",
   "metadata": {},
   "source": [
    "**Create mini dataframe**"
   ]
  },
  {
   "attachments": {},
   "cell_type": "markdown",
   "metadata": {},
   "source": [
    "We will use the results of the case study by Özdemir ([2019](https://www.sciencedirect.com/science/article/pii/S0048969718351350)) as a baseline for our model.\n",
    "The study was conducted in the city of Istanbul, Turkey, and the results are summarized in the following table."
   ]
  },
  {
   "cell_type": "code",
   "execution_count": null,
   "metadata": {},
   "outputs": [],
   "source": [
    "df = pd.DataFrame(columns=['vehicles', 'pm_conc', 'tree_dist'], index=['C1', 'C2', 'C3'])\n",
    "df.loc['C1'] = [37_653, 35.54, np.nan]\n",
    "df.loc['C2'] = [44_399, 36.39, 0.8]\n",
    "df.loc['C3'] = [49_877, 28.81, 0.01]\n",
    "df.pm_conc = df.pm_conc.astype(float)\n",
    "df.vehicles = df.vehicles.astype(int)\n",
    "df.tree_dist = df.tree_dist.astype(float)\n",
    "df['pm_conc_per_veh'] = df.pm_conc / df.vehicles\n",
    "df['pm_conc_relief_per_veh'] = abs(df.pm_conc_per_veh - df.pm_conc_per_veh['C1'])\n",
    "df.pm_conc_relief_per_veh = df.pm_conc_relief_per_veh.astype(float)\n",
    "df"
   ]
  },
  {
   "attachments": {},
   "cell_type": "markdown",
   "metadata": {},
   "source": [
    "**Fit exponential decay function**"
   ]
  },
  {
   "cell_type": "code",
   "execution_count": null,
   "metadata": {},
   "outputs": [],
   "source": [
    "td = df.tree_dist.values[1:]\n",
    "cr = df.pm_conc_relief_per_veh.values[1:]\n",
    "tdl = np.log(td)\n",
    "crl = np.log(cr)\n",
    "M, B = np.polyfit(tdl, crl, 1)\n",
    "\n",
    "def pm_concentration_relief(tree_distance: float | np.ndarray, n_vehicles: float = 1) -> float | np.ndarray:\n",
    "    \"\"\" Based on exponential model fitted to data from C2 and C3 \"\"\"\n",
    "    return np.exp(M * np.log(tree_distance) + B) * n_vehicles"
   ]
  },
  {
   "attachments": {},
   "cell_type": "markdown",
   "metadata": {},
   "source": [
    "**Plot**"
   ]
  },
  {
   "cell_type": "code",
   "execution_count": null,
   "metadata": {},
   "outputs": [],
   "source": [
    "fig, ax = plt.subplots(figsize=(4, 4))\n",
    "x_ = np.linspace(0.01, 10, 100)\n",
    "y_ = pm_concentration_relief(x_)\n",
    "ax.scatter(df.tree_dist, df.pm_conc_relief_per_veh, color='k', s=20)\n",
    "ax.text(df.tree_dist['C2'], df.pm_conc_relief_per_veh['C2'], 'C2', ha='left', va='bottom', fontsize=12)\n",
    "ax.text(df.tree_dist['C3'], df.pm_conc_relief_per_veh['C3'], 'C3', ha='left', va='top', fontsize=12)\n",
    "ax.plot(x_, y_, color='k', linestyle='--', label=f'$y =$ {np.exp(B):.2e}$\\cdot x^{{{M:.2f}}}$')\n",
    "ax.set_xlim(-.1, 10.1)\n",
    "ax.set_xlabel('Tree distance $[m]$')\n",
    "ax.ticklabel_format(axis='y', style='sci', scilimits=(0,0))\n",
    "ax.yaxis.major.formatter._useMathText = True\n",
    "ax.set_ylabel('PM$_{2.5}$ concentration relief $[\\mu g/m^3]$')\n",
    "ax.legend()\n",
    "ax.set_title('PM$_{2.5}$ concentration relief per vehicle\\nas a function of tree distance');\n",
    "fig.tight_layout()\n",
    "fig.savefig(plot_path + 'pm_conc_relief.pdf', dpi=500)"
   ]
  },
  {
   "attachments": {},
   "cell_type": "markdown",
   "metadata": {},
   "source": [
    "**Define expected impact function**"
   ]
  },
  {
   "cell_type": "code",
   "execution_count": null,
   "metadata": {},
   "outputs": [],
   "source": [
    "def expected_impact(row: pd.Series) -> float:\n",
    "    \"\"\" Calculate expected impact of adding a tree to a grid cell \"\"\"\n",
    "    current_relief = pm_concentration_relief(row.tree_dist, row.trfc_itp)\n",
    "    # calculate new tree distance, street length is same, trees += 1\n",
    "    new_tree_dist = row.street_len / (row.n_trees + 1) - average_tree_diameter\n",
    "    new_relief = pm_concentration_relief(new_tree_dist, row.trfc_itp)\n",
    "    return new_relief - current_relief"
   ]
  },
  {
   "attachments": {},
   "cell_type": "markdown",
   "metadata": {},
   "source": [
    "**Visualize impact of one tree**"
   ]
  },
  {
   "cell_type": "code",
   "execution_count": null,
   "metadata": {},
   "outputs": [],
   "source": [
    "GRID_ = GRID.copy()\n",
    "with warnings.catch_warnings():\n",
    "    # divide by zero warning, but it's no big deal\n",
    "    warnings.simplefilter('ignore')\n",
    "    GRID_['expected_impact'] = GRID_.apply(expected_impact, axis=1)\n",
    "fig, ax = plt.subplots(figsize=(6, 8))\n",
    "GRID_.plot(ax=ax, column='expected_impact', cmap='YlGn', legend=True, zorder=1,\n",
    "           legend_kwds={'orientation': 'vertical', 'shrink': 0.5, 'label': r'PM$_{2.5}$ relief $[\\mu g/m^3/\\mathrm{day}]$'})\n",
    "STREETS.plot(ax=ax, color='grey', alpha=0.1, zorder=2)\n",
    "ax.set_axis_off()\n",
    "fig.suptitle('Expected impact of planting one tree')\n",
    "fig.tight_layout()\n",
    "fig.savefig(plot_path + 'expected_impact1.pdf', dpi=500)"
   ]
  },
  {
   "attachments": {},
   "cell_type": "markdown",
   "metadata": {},
   "source": [
    "**Generalize to $\\mathbf{n}$ trees**"
   ]
  },
  {
   "cell_type": "code",
   "execution_count": null,
   "metadata": {},
   "outputs": [],
   "source": [
    "def recommender_system(grid: gpd.GeoDataFrame, budget: int) -> tuple[gpd.GeoDataFrame, float]:\n",
    "    \"\"\"\n",
    "    Iteratively, plant trees in grid cells with highest expected impact.\n",
    "    Return the updated grid and the total impact achieved.\n",
    "    \"\"\"\n",
    "    grid_ = grid.copy()\n",
    "    grid_['planted'] = 0\n",
    "    total_impact = 0\n",
    "    for _ in range(budget):\n",
    "        with warnings.catch_warnings():\n",
    "            warnings.simplefilter('ignore')\n",
    "            grid_['expected_impact'] = grid_.apply(expected_impact, axis=1)\n",
    "        recommended_cell = grid_.expected_impact.idxmax()\n",
    "        grid_.loc[recommended_cell, 'n_trees'] += 1\n",
    "        grid_.loc[recommended_cell, 'planted'] += 1\n",
    "        grid_['tree_dist'] = grid_.street_len / grid_.n_trees - average_tree_diameter\n",
    "        total_impact += grid_.loc[recommended_cell, 'expected_impact']\n",
    "    return grid_, total_impact"
   ]
  },
  {
   "cell_type": "code",
   "execution_count": null,
   "metadata": {},
   "outputs": [],
   "source": [
    "budget = 10000\n",
    "GRID_, total_impact = recommender_system(GRID, budget)\n",
    "fig, ax = plt.subplots(figsize=(6, 8))\n",
    "GRID_.plot(ax=ax, column='planted', cmap='YlGn', legend=True, zorder=1,\n",
    "           legend_kwds={'orientation': 'vertical', 'shrink': 0.5, 'label': 'Number of trees'})\n",
    "STREETS.plot(ax=ax, color='grey', alpha=0.1, zorder=2)\n",
    "ax.set_axis_off()\n",
    "fig.suptitle(f'Recommended planting sites\\nfor a budget of {budget} trees\\n(Total impact: {total_impact:.2f} ' + r'$\\mu g/m^3/\\mathrm{day}$)')\n",
    "fig.tight_layout()\n",
    "fig.savefig(plot_path + 'expected_impact2.pdf', dpi=500)"
   ]
  },
  {
   "attachments": {},
   "cell_type": "markdown",
   "metadata": {},
   "source": [
    "**Benchmark**"
   ]
  },
  {
   "cell_type": "code",
   "execution_count": null,
   "metadata": {},
   "outputs": [],
   "source": [
    "def random_recommender_system(grid: gpd.GeoDataFrame, budget: int) -> tuple[gpd.GeoDataFrame, float]:\n",
    "    \"\"\"\n",
    "    Randomly, plant trees in grid cells.\n",
    "    Return the updated grid and the total impact achieved.\n",
    "    \"\"\"\n",
    "    grid_ = grid.copy()\n",
    "    grid_['planted'] = 0\n",
    "    total_impact = 0\n",
    "    for _ in range(budget):\n",
    "        random_cell = np.random.choice(grid_.index)\n",
    "        grid_.loc[random_cell, 'n_trees'] += 1\n",
    "        grid_.loc[random_cell, 'planted'] += 1\n",
    "        grid_['tree_dist'] = grid_.street_len / grid_.n_trees - average_tree_diameter\n",
    "        with warnings.catch_warnings():\n",
    "            warnings.simplefilter('ignore')\n",
    "            impact_cell = expected_impact(grid_.loc[random_cell])\n",
    "        if not np.isnan(impact_cell): total_impact += impact_cell\n",
    "    return grid_, total_impact"
   ]
  },
  {
   "cell_type": "code",
   "execution_count": null,
   "metadata": {},
   "outputs": [],
   "source": [
    "budget = 10000\n",
    "GRID_, total_impact = random_recommender_system(GRID, budget)\n",
    "fig, ax = plt.subplots(figsize=(6, 8))\n",
    "GRID_.plot(ax=ax, column='planted', cmap='YlGn', legend=True, zorder=1,\n",
    "           legend_kwds={'orientation': 'vertical', 'shrink': 0.5, 'label': 'Number of trees'})\n",
    "STREETS.plot(ax=ax, color='grey', alpha=0.1, zorder=2)\n",
    "ax.set_axis_off()\n",
    "fig.suptitle(f'Recommended planting sites\\nfor a budget of {budget} trees\\n(Total impact: {total_impact:.2f} ' + r'$\\mu g/m^3/\\mathrm{day}$)')\n",
    "fig.tight_layout()\n",
    "fig.savefig(plot_path + 'expected_impact3.pdf', dpi=500)"
   ]
  },
  {
   "attachments": {},
   "cell_type": "markdown",
   "metadata": {},
   "source": [
    "We see that our recommender system does indeed perform better than the baseline model, which is to be expected, as it simply always takes the best possible action by definition.\n",
    "The recommended planting sites seem to share most correlation with the traffic volumes, which is to be expected as well."
   ]
  }
 ],
 "metadata": {
  "kernelspec": {
   "display_name": "Python 3.10.8 ('venv': venv)",
   "language": "python",
   "name": "python3"
  },
  "language_info": {
   "codemirror_mode": {
    "name": "ipython",
    "version": 3
   },
   "file_extension": ".py",
   "mimetype": "text/x-python",
   "name": "python",
   "nbconvert_exporter": "python",
   "pygments_lexer": "ipython3",
   "version": "3.10.8"
  },
  "orig_nbformat": 4,
  "vscode": {
   "interpreter": {
    "hash": "64750f2cf9258ce55ff4fa4c381516413ca0f47d1da9e17919bacb4d3e3ff9fe"
   }
  }
 },
 "nbformat": 4,
 "nbformat_minor": 2
}
